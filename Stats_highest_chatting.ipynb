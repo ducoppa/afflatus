{
 "cells": [
  {
   "cell_type": "code",
   "execution_count": 81,
   "metadata": {},
   "outputs": [],
   "source": [
    "import pandas as pd\n",
    "import matplotlib.pyplot as plt\n",
    "import csv\n",
    "\n",
    "class StatsChat_Zoom:\n",
    "    def __init__(self, path=None):\n",
    "        self.path = path\n",
    "        self.records = None\n",
    "        pass\n",
    "    \n",
    "    def read_file_record(self):\n",
    "        if self.path is not None:\n",
    "            with open(self.path, 'r') as file_record:\n",
    "                self.records = file_record.readlines()\n",
    "                print(self.records)\n",
    "            return True\n",
    "        return False\n",
    "                \n",
    "    # Convert records from raw input to records have type: time, from, to, message\n",
    "    def extract_records(self):\n",
    "        if self.records is not None:\n",
    "            messages = {'time': [], 'contents': [], 'people': [], 'from': [], 'to': [], 'message': []}\n",
    "            for record in self.records:\n",
    "                data = record.split(\"From\")\n",
    "                if len(data) == 1:\n",
    "                    self.records.remove(record)\n",
    "                elif len(data) == 2:\n",
    "                    messages['time'].append(data[0])\n",
    "                    messages['contents'].append(data[1])\n",
    "            # Split contents to people and message        \n",
    "            for message in messages['contents']:\n",
    "                d = message.split(':')\n",
    "                if len(d) > 1:\n",
    "                    messages['people'].append(d[0])\n",
    "                    messages['message'].append(d[1])\n",
    "            # Split people to: from, to       \n",
    "            for i in messages['people']:\n",
    "                d = i.split('To')\n",
    "                if len(d) > 1:\n",
    "                    messages['from'].append(d[0])\n",
    "                    messages['to'].append(d[1])\n",
    "                else:\n",
    "                    messages['from'].append(d[0])\n",
    "                    messages['to'].append('Lecturer')\n",
    "            # Delete keys: contents, people       \n",
    "            del messages['contents']; del messages['people']\n",
    "            \n",
    "            # Stanardlize values\n",
    "            length = len(messages['time'])\n",
    "            for i in range(length):\n",
    "                messages['time'][i] = messages['time'][i].replace(\"\\t\", \"\").replace(\" \", \"\").replace(\"\\n\",\"\")\n",
    "                messages['from'][i] = messages['from'][i].replace(\"\\t\", \"\").replace(\"\\n\",\"\")\n",
    "                messages['to'][i] = messages['to'][i].replace(\"\\t\", \"\").replace(\"\\n\",\"\")\n",
    "                messages['message'][i] = messages['message'][i].replace(\"\\t\", \"\").replace(\"\\n\", \"\")\n",
    "            self.records = messages\n",
    "        else:\n",
    "            return None\n",
    "                    \n",
    "    # Write records to file csv\n",
    "    def convert_record(self):\n",
    "        if self.records is not None:\n",
    "            path = self.path.replace('txt', 'csv')\n",
    "            with open(path, \"w\") as outfile:\n",
    "                writter = csv.writer(outfile)\n",
    "                writter.writerow(self.records.keys())\n",
    "                writter.writerows(zip(*self.records.values()))\n",
    "                \n",
    "    def comunicate(self, n=1, color='blue'):\n",
    "        path = self.path.replace('txt', 'csv')\n",
    "        records = pd.read_csv(path)\n",
    "        counts = records.groupby('from').count().reset_index()\n",
    "        counts = counts.sort_values('time', ascending=False).head(n).reset_index()\n",
    "        #a = a.sort_values('time', ascending=False).head(20)\n",
    "        #a = a.reset_index()[['from', 'time']]\n",
    "        counts.plot(x='from', y='time', kind='bar', color=color)\n",
    "        plt.show()\n",
    "    @staticmethod\n",
    "    def visualizing(path=None, color='blue', n=1):\n",
    "        records = pd.read_csv(path)\n",
    "        counts = records.groupby('from').count().reset_index()\n",
    "        counts = counts.sort_values('time', ascending=False).head(n).reset_index()\n",
    "        #a = a.sort_values('time', ascending=False).head(20)\n",
    "        #a = a.reset_index()[['from', 'time']]\n",
    "        counts.plot(x='from', y='time', kind='bar', color=color)\n",
    "        plt.show()"
   ]
  },
  {
   "cell_type": "code",
   "execution_count": 82,
   "metadata": {},
   "outputs": [],
   "source": [
    "a = StatsChat_Zoom(path='meeting_saved_chat.txt')"
   ]
  },
  {
   "cell_type": "code",
   "execution_count": 83,
   "metadata": {},
   "outputs": [
    {
     "name": "stdout",
     "output_type": "stream",
     "text": [
      "['a From b To c : hello\\n']\n"
     ]
    },
    {
     "data": {
      "text/plain": [
       "True"
      ]
     },
     "execution_count": 83,
     "metadata": {},
     "output_type": "execute_result"
    }
   ],
   "source": [
    "a.read_file_record()"
   ]
  },
  {
   "cell_type": "code",
   "execution_count": 84,
   "metadata": {},
   "outputs": [],
   "source": [
    "a.extract_records()"
   ]
  },
  {
   "cell_type": "code",
   "execution_count": 85,
   "metadata": {},
   "outputs": [],
   "source": [
    "a.convert_record()"
   ]
  },
  {
   "cell_type": "code",
   "execution_count": 86,
   "metadata": {},
   "outputs": [
    {
     "data": {
      "text/plain": [
       "{'time': ['a'], 'from': [' b '], 'to': [' c '], 'message': [' hello']}"
      ]
     },
     "execution_count": 86,
     "metadata": {},
     "output_type": "execute_result"
    }
   ],
   "source": [
    "a.records"
   ]
  },
  {
   "cell_type": "code",
   "execution_count": 87,
   "metadata": {},
   "outputs": [
    {
     "data": {
      "image/png": "[encoded data removed]",
      "text/plain": [
       "<Figure size 432x288 with 1 Axes>"
      ]
     },
     "metadata": {
      "needs_background": "light"
     },
     "output_type": "display_data"
    }
   ],
   "source": [
    "a.comunicate()"
   ]
  },
  {
   "cell_type": "code",
   "execution_count": 80,
   "metadata": {},
   "outputs": [
    {
     "ename": "NameError",
     "evalue": "name 'n' is not defined",
     "output_type": "error",
     "traceback": [
      "\u001b[0;31m-----------------------------------------------------------------\u001b[0m",
      "\u001b[0;31mNameError\u001b[0m                       Traceback (most recent call last)",
      "\u001b[0;32m<ipython-input-80-d290ff895fde>\u001b[0m in \u001b[0;36m<module>\u001b[0;34m\u001b[0m\n\u001b[0;32m----> 1\u001b[0;31m \u001b[0mStatsChat_Zoom\u001b[0m\u001b[0;34m(\u001b[0m\u001b[0;34m)\u001b[0m\u001b[0;34m.\u001b[0m\u001b[0mvisualizing\u001b[0m\u001b[0;34m(\u001b[0m\u001b[0;34m'meeting.csv'\u001b[0m\u001b[0;34m,\u001b[0m \u001b[0mcolor\u001b[0m\u001b[0;34m=\u001b[0m\u001b[0;34m'red'\u001b[0m\u001b[0;34m)\u001b[0m\u001b[0;34m\u001b[0m\u001b[0;34m\u001b[0m\u001b[0m\n\u001b[0m",
      "\u001b[0;32m<ipython-input-73-f151c66963d9>\u001b[0m in \u001b[0;36mvisualizing\u001b[0;34m(path, color)\u001b[0m\n\u001b[1;32m     79\u001b[0m         \u001b[0mrecords\u001b[0m \u001b[0;34m=\u001b[0m \u001b[0mpd\u001b[0m\u001b[0;34m.\u001b[0m\u001b[0mread_csv\u001b[0m\u001b[0;34m(\u001b[0m\u001b[0mpath\u001b[0m\u001b[0;34m)\u001b[0m\u001b[0;34m\u001b[0m\u001b[0;34m\u001b[0m\u001b[0m\n\u001b[1;32m     80\u001b[0m         \u001b[0mcounts\u001b[0m \u001b[0;34m=\u001b[0m \u001b[0mrecords\u001b[0m\u001b[0;34m.\u001b[0m\u001b[0mgroupby\u001b[0m\u001b[0;34m(\u001b[0m\u001b[0;34m'from'\u001b[0m\u001b[0;34m)\u001b[0m\u001b[0;34m.\u001b[0m\u001b[0mcount\u001b[0m\u001b[0;34m(\u001b[0m\u001b[0;34m)\u001b[0m\u001b[0;34m.\u001b[0m\u001b[0mreset_index\u001b[0m\u001b[0;34m(\u001b[0m\u001b[0;34m)\u001b[0m\u001b[0;34m\u001b[0m\u001b[0;34m\u001b[0m\u001b[0m\n\u001b[0;32m---> 81\u001b[0;31m         \u001b[0mcounts\u001b[0m \u001b[0;34m=\u001b[0m \u001b[0mcounts\u001b[0m\u001b[0;34m.\u001b[0m\u001b[0msort_values\u001b[0m\u001b[0;34m(\u001b[0m\u001b[0;34m'time'\u001b[0m\u001b[0;34m,\u001b[0m \u001b[0mascending\u001b[0m\u001b[0;34m=\u001b[0m\u001b[0;32mFalse\u001b[0m\u001b[0;34m)\u001b[0m\u001b[0;34m.\u001b[0m\u001b[0mhead\u001b[0m\u001b[0;34m(\u001b[0m\u001b[0mn\u001b[0m\u001b[0;34m)\u001b[0m\u001b[0;34m.\u001b[0m\u001b[0mreset_index\u001b[0m\u001b[0;34m(\u001b[0m\u001b[0;34m)\u001b[0m\u001b[0;34m\u001b[0m\u001b[0;34m\u001b[0m\u001b[0m\n\u001b[0m\u001b[1;32m     82\u001b[0m         \u001b[0;31m#a = a.sort_values('time', ascending=False).head(20)\u001b[0m\u001b[0;34m\u001b[0m\u001b[0;34m\u001b[0m\u001b[0;34m\u001b[0m\u001b[0m\n\u001b[1;32m     83\u001b[0m         \u001b[0;31m#a = a.reset_index()[['from', 'time']]\u001b[0m\u001b[0;34m\u001b[0m\u001b[0;34m\u001b[0m\u001b[0;34m\u001b[0m\u001b[0m\n",
      "\u001b[0;31mNameError\u001b[0m: name 'n' is not defined"
     ]
    }
   ],
   "source": [
    "StatsChat_Zoom().visualizing('meeting.csv', color='red')"
   ]
  },
  {
   "cell_type": "code",
   "execution_count": null,
   "metadata": {},
   "outputs": [],
   "source": []
  }
 ],
 "metadata": {
  "kernelspec": {
   "display_name": "Python 3",
   "language": "python",
   "name": "python3"
  },
  "language_info": {
   "codemirror_mode": {
    "name": "ipython",
    "version": 3
   },
   "file_extension": ".py",
   "mimetype": "text/x-python",
   "name": "python",
   "nbconvert_exporter": "python",
   "pygments_lexer": "ipython3",
   "version": "3.8.2"
  }
 },
 "nbformat": 4,
 "nbformat_minor": 4
}
