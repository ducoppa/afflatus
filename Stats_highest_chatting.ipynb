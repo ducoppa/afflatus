{
 "cells": [
  {
   "cell_type": "code",
   "execution_count": 8,
   "metadata": {},
   "outputs": [],
   "source": [
    "import pandas as pd\n",
    "import matplotlib.pyplot as plt\n",
    "import csv\n",
    "\n",
    "class StatsChat_Zoom:\n",
    "    def __init__(self, path=None):\n",
    "        self.path = path\n",
    "        self.records = None\n",
    "        pass\n",
    "    \n",
    "    def read_file_record(self):\n",
    "        if self.path is not None:\n",
    "            with open(self.path, 'r') as file_record:\n",
    "                self.records = file_record.readlines()\n",
    "                print(self.records)\n",
    "            return True\n",
    "        return False\n",
    "                \n",
    "    # Convert records from raw input to records have type: time, from, to, message\n",
    "    def extract_records(self):\n",
    "        if self.records is not None:\n",
    "            messages = {'time': [],'from': [], 'to': [], 'message': []}\n",
    "            for record in self.records:\n",
    "                data = record.split(\"From\")\n",
    "                if len(data) == 1:\n",
    "                    self.records.remove(record)\n",
    "                elif len(data) == 2:\n",
    "                    messages['time'].append(data[0])\n",
    "                    #messages['contents'].append(data[1])\n",
    "                    detached_contents = data[1].split(':')\n",
    "                    \n",
    "                    peoples = detached_contents[0].split('To')\n",
    "                    if len(peoples) == 2:\n",
    "                        messages['from'] = peoples[0]\n",
    "                        messages['to'] = peoples[1]\n",
    "                    else:\n",
    "                        messages['from'] = peoples[0]\n",
    "                        messages['to'] = peoples[1]\n",
    "                        \n",
    "                    messages['messages'].append(detached_contents[1])\n",
    "                # Standardlize input    \n",
    "                i = len(messages['time']) - 1    \n",
    "                messages['time'][i] = messages['time'][i].replace(\"\\t\", \"\").replace(\" \", \"\").replace(\"\\n\",\"\")\n",
    "                messages['from'][i] = messages['from'][i].replace(\"\\t\", \"\").replace(\"\\n\",\"\")\n",
    "                messages['to'][i] = messages['to'][i].replace(\"\\t\", \"\").replace(\"\\n\",\"\")\n",
    "                messages['message'][i] = messages['message'][i].replace(\"\\t\", \"\").replace(\"\\n\", \"\")                \n",
    "\n",
    "            self.records = messages\n",
    "        else:\n",
    "            return None\n",
    "                    \n",
    "    # Write records to file csv\n",
    "    def convert_record(self):\n",
    "        if self.records is not None:\n",
    "            path = self.path.replace('txt', 'csv')\n",
    "            with open(path, \"w\") as outfile:\n",
    "                writter = csv.writer(outfile)\n",
    "                writter.writerow(self.records.keys())\n",
    "                writter.writerows(zip(*self.records.values()))\n",
    "                \n",
    "    def comunicate(self, n=1, color='blue'):\n",
    "        path = self.path.replace('txt', 'csv')\n",
    "        records = pd.read_csv(path)\n",
    "        counts = records.groupby('from').count().reset_index()\n",
    "        counts = counts.sort_values('time', ascending=False).head(n).reset_index()\n",
    "        counts.plot(x='from', y='time', kind='bar', color=color)\n",
    "        plt.show()\n",
    "        \n",
    "    @staticmethod\n",
    "    def visualizing(path=None, color='blue', n=1):\n",
    "        if path is None:\n",
    "            return False\n",
    "        records = pd.read_csv(path)\n",
    "        counts = records.groupby('from').count().reset_index()\n",
    "        counts = counts.sort_values('time', ascending=False).head(n).reset_index()\n",
    "        counts.plot(x='from', y='time', kind='bar', color=color)\n",
    "        plt.show()\n",
    "        return True"
   ]
  },
  {
   "cell_type": "code",
   "execution_count": 9,
   "metadata": {},
   "outputs": [
    {
     "data": {
      "image/png": "[encoded data removed]",
      "text/plain": [
       "<Figure size 432x288 with 1 Axes>"
      ]
     },
     "metadata": {
      "needs_background": "light"
     },
     "output_type": "display_data"
    },
    {
     "data": {
      "text/plain": [
       "True"
      ]
     },
     "execution_count": 9,
     "metadata": {},
     "output_type": "execute_result"
    }
   ],
   "source": [
    "StatsChat_Zoom().visualizing('meeting.csv', color='pink', n=10)"
   ]
  },
  {
   "cell_type": "code",
   "execution_count": null,
   "metadata": {},
   "outputs": [],
   "source": []
  }
 ],
 "metadata": {
  "kernelspec": {
   "display_name": "Python 3",
   "language": "python",
   "name": "python3"
  },
  "language_info": {
   "codemirror_mode": {
    "name": "ipython",
    "version": 3
   },
   "file_extension": ".py",
   "mimetype": "text/x-python",
   "name": "python",
   "nbconvert_exporter": "python",
   "pygments_lexer": "ipython3",
   "version": "3.7.6"
  }
 },
 "nbformat": 4,
 "nbformat_minor": 4
}
